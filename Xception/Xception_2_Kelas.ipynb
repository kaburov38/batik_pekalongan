{
  "cells": [
    {
      "cell_type": "code",
      "execution_count": 178,
      "metadata": {
        "colab": {
          "base_uri": "https://localhost:8080/"
        },
        "id": "9xyalPcwY1WO",
        "outputId": "253f8c3c-0697-4e21-9842-cdedc52b5ebc"
      },
      "outputs": [
        {
          "output_type": "stream",
          "name": "stdout",
          "text": [
            "Mounted at /content/drive\n"
          ]
        }
      ],
      "source": [
        "# Import Dataset\n",
        "import tensorflow as tf\n",
        "import matplotlib.pyplot as plt\n",
        "import numpy as np\n",
        "import itertools\n",
        "import os\n",
        "import tensorflow.keras.backend as K\n",
        "\n",
        "from tensorflow import keras\n",
        "from tensorflow.keras import layers\n",
        "from tensorflow.keras.preprocessing.image import ImageDataGenerator\n",
        "from tensorflow.keras.preprocessing import image\n",
        "from tensorflow.keras.applications import imagenet_utils\n",
        "from tensorflow.keras.optimizers import Adam, SGD, RMSprop\n",
        "from tensorflow.keras.metrics import categorical_crossentropy\n",
        "from keras.applications.xception import preprocess_input\n",
        "from sklearn.metrics import confusion_matrix\n",
        "from google.colab import drive\n",
        "\n",
        "# Accessing My Google Drive\n",
        "drive.mount('/content/drive', force_remount=True)"
      ]
    },
    {
      "cell_type": "code",
      "execution_count": 179,
      "metadata": {
        "id": "Ewrz5ZgaY1WQ"
      },
      "outputs": [],
      "source": [
        "# Location Path\n",
        "train_path  = 'drive/My Drive/data pekalongan/2 kelas/train'\n",
        "valid_path  = 'drive/My Drive/data pekalongan/2 kelas/valid'\n",
        "test_path  = 'drive/My Drive/data pekalongan/2 kelas/test'"
      ]
    },
    {
      "cell_type": "code",
      "execution_count": 180,
      "metadata": {
        "colab": {
          "base_uri": "https://localhost:8080/"
        },
        "id": "JKHn3IwRY1WQ",
        "outputId": "bba12560-e2ae-410f-e0ad-ecf1a6fed75c"
      },
      "outputs": [
        {
          "output_type": "stream",
          "name": "stdout",
          "text": [
            "Found 3360 images belonging to 2 classes.\n",
            "Found 320 images belonging to 2 classes.\n",
            "Found 320 images belonging to 2 classes.\n"
          ]
        }
      ],
      "source": [
        "# Data Augmentation\n",
        "datagen = ImageDataGenerator(\n",
        "    preprocessing_function=preprocess_input,\n",
        "    rescale=1./127.5-1.,\n",
        ")\n",
        "\n",
        "# Train, Test, Validation\n",
        "train_batches = datagen.flow_from_directory(\n",
        "    train_path, target_size=(299,299), batch_size=10)\n",
        "valid_batches = datagen.flow_from_directory(\n",
        "    valid_path, target_size=(299,299), batch_size=15)\n",
        "test_batches = datagen.flow_from_directory(\n",
        "    test_path, target_size=(299,299), batch_size=40)"
      ]
    },
    {
      "cell_type": "code",
      "execution_count": 181,
      "metadata": {
        "colab": {
          "base_uri": "https://localhost:8080/"
        },
        "id": "7aL1hquC-Q5D",
        "outputId": "06da7e80-f97d-4622-c776-55d11ed38644"
      },
      "outputs": [
        {
          "output_type": "stream",
          "name": "stdout",
          "text": [
            "dict_items([(0, 1680), (1, 1680)])\n",
            "3360\n"
          ]
        }
      ],
      "source": [
        "from collections import Counter\n",
        "\n",
        "samples = Counter(train_batches.classes)\n",
        "\n",
        "print(samples.items()) # dict_items([(0, 1648), (1, 3614)])\n",
        "\n",
        "training_examples = 0;\n",
        "for item in samples.items():\n",
        "    training_examples += item[1]\n",
        "\n",
        "print(training_examples)"
      ]
    },
    {
      "cell_type": "code",
      "execution_count": 182,
      "metadata": {
        "id": "I5HE-0el3iXp"
      },
      "outputs": [],
      "source": [
        "def entry_flow(inputs):\n",
        "\n",
        "  x = layers.Conv2D(32, 3, strides=2, padding='same')(inputs)\n",
        "  x = layers.BatchNormalization()(x)\n",
        "  x = layers.Activation('relu')(x)\n",
        "\n",
        "  x = layers.Conv2D(64, 3, padding='same')(x)\n",
        "  x = layers.BatchNormalization()(x)\n",
        "  x = layers.Activation('relu')(x)\n",
        "\n",
        "  previous_block_activation = x  # Set aside residual\n",
        "  \n",
        "  # Blocks 1, 2, 3 are identical apart from the feature depth.\n",
        "  for size in [128, 256, 728]:\n",
        "    x = layers.Activation('relu')(x)\n",
        "    x = layers.SeparableConv2D(size, 3, padding='same')(x)\n",
        "    x = layers.BatchNormalization()(x)\n",
        "\n",
        "    x = layers.Activation('relu')(x)\n",
        "    x = layers.SeparableConv2D(size, 3, padding='same')(x)\n",
        "    x = layers.BatchNormalization()(x)\n",
        "\n",
        "    x = layers.MaxPooling2D(3, strides=2, padding='same')(x)\n",
        "    \n",
        "    residual = layers.Conv2D(  # Project residual\n",
        "        size, 1, strides=2, padding='same')(previous_block_activation)           \n",
        "    x = layers.add([x, residual])  # Add back residual\n",
        "    previous_block_activation = x  # Set aside next residual\n",
        "\n",
        "  return x\n",
        "\n",
        "\n",
        "def middle_flow(x, num_blocks=8):\n",
        "  \n",
        "  previous_block_activation = x\n",
        "\n",
        "  for _ in range(num_blocks):\n",
        "    x = layers.Activation('relu')(x)\n",
        "    x = layers.SeparableConv2D(728, 3, padding='same')(x)\n",
        "    x = layers.BatchNormalization()(x)\n",
        "\n",
        "    x = layers.Activation('relu')(x)\n",
        "    x = layers.SeparableConv2D(728, 3, padding='same')(x)\n",
        "    x = layers.BatchNormalization()(x)\n",
        "    \n",
        "    x = layers.Activation('relu')(x)\n",
        "    x = layers.SeparableConv2D(728, 3, padding='same')(x)\n",
        "    x = layers.BatchNormalization()(x)\n",
        "\n",
        "    x = layers.add([x, previous_block_activation])  # Add back residual\n",
        "    previous_block_activation = x  # Set aside next residual\n",
        "    \n",
        "  return x\n",
        "\n",
        "\n",
        "def exit_flow(x, num_classes=1000):\n",
        "  \n",
        "  previous_block_activation = x\n",
        "\n",
        "  x = layers.Activation('relu')(x)\n",
        "  x = layers.SeparableConv2D(728, 3, padding='same')(x)\n",
        "  x = layers.BatchNormalization()(x)\n",
        "\n",
        "  x = layers.Activation('relu')(x)\n",
        "  x = layers.SeparableConv2D(1024, 3, padding='same')(x)\n",
        "  x = layers.BatchNormalization()(x)\n",
        "  \n",
        "  x = layers.MaxPooling2D(3, strides=2, padding='same')(x)\n",
        "\n",
        "  residual = layers.Conv2D(  # Project residual\n",
        "      1024, 1, strides=2, padding='same')(previous_block_activation)\n",
        "  x = layers.add([x, residual])  # Add back residual\n",
        "  \n",
        "  x = layers.SeparableConv2D(1536, 3, padding='same')(x)\n",
        "  x = layers.BatchNormalization()(x)\n",
        "  x = layers.Activation('relu')(x)\n",
        "  \n",
        "  x = layers.SeparableConv2D(2048, 3, padding='same')(x)\n",
        "  x = layers.BatchNormalization()(x)\n",
        "  x = layers.Activation('relu')(x)\n",
        "  \n",
        "  x = layers.GlobalAveragePooling2D()(x)\n",
        "  if num_classes == 1:\n",
        "    activation = 'sigmoid'\n",
        "  else:\n",
        "    activation = 'softmax'\n",
        "  return layers.Dense(num_classes, activation=activation)(x)"
      ]
    },
    {
      "cell_type": "code",
      "execution_count": 183,
      "metadata": {
        "id": "d4_96LWHY1WU"
      },
      "outputs": [],
      "source": [
        "keras.backend.clear_session()\n",
        "\n",
        "# Create Xception by chaining the 3 flows\n",
        "inputs = keras.Input(shape=(299, 299, 3))\n",
        "outputs = exit_flow(middle_flow(entry_flow(inputs), num_blocks=8), num_classes=2)\n",
        "xception = keras.Model(inputs, outputs)"
      ]
    },
    {
      "cell_type": "code",
      "execution_count": 184,
      "metadata": {
        "id": "E9_jGuo9sPYi"
      },
      "outputs": [],
      "source": [
        "# Custom Early Stopping\n",
        "# Expected behavior: EarlyStopping should restore weights on end of training regardless it stop training early or after the last epoch\n",
        "\n",
        "class CustomEarlyStopping(tf.keras.callbacks.Callback):\n",
        "    def __init__(self, patience=0):\n",
        "        super(CustomEarlyStopping, self).__init__()\n",
        "        self.patience = patience\n",
        "        self.best_weights = None\n",
        "        \n",
        "    def on_train_begin(self, logs=None):\n",
        "        # The number of epoch it has waited when loss is no longer minimum.\n",
        "        self.wait = 0\n",
        "        # The epoch the training stops at.\n",
        "        self.stopped_epoch = 0\n",
        "        # Initialize the best as infinity.\n",
        "        self.best_val_loss = np.Inf\n",
        "        self.best_loss = np.Inf\n",
        "        self.best_val_accuracy = 0.0\n",
        "        self.best_accuracy = 0.0\n",
        "\n",
        "    def on_epoch_end(self, epoch, logs=None): \n",
        "        val_loss = logs.get('val_loss')\n",
        "        loss = logs.get('loss')\n",
        "        val_accuracy = logs.get('val_accuracy')\n",
        "        accuracy = logs.get('accuracy')\n",
        "\n",
        "        # if np.less(val_loss, self.best_val_loss) and np.greater(map10, self.best_map10):\n",
        "        if np.greater_equal(val_accuracy, self.best_val_accuracy) and np.greater_equal(accuracy, self.best_accuracy) and np.greater_equal(accuracy, val_accuracy):\n",
        "            self.best_val_loss = val_loss\n",
        "            self.best_loss = loss\n",
        "            self.best_val_accuracy = val_accuracy\n",
        "            self.best_accuracy = accuracy\n",
        "            self.wait = 0\n",
        "\n",
        "            # Record the best weights if current results is better.\n",
        "            print(\"Saving the best weight at epoch {}\".format(epoch + 1))\n",
        "            self.best_weights = self.model.get_weights()\n",
        "        else:\n",
        "            self.wait += 1\n",
        "            if self.wait >= self.patience:\n",
        "                self.stopped_epoch = epoch\n",
        "                self.model.stop_training = True\n",
        "                print(\"Training stop early. Restoring model weights from the end of the best epoch.\")\n",
        "                self.model.set_weights(self.best_weights)\n",
        "                \n",
        "    def on_train_end(self, logs=None):\n",
        "        # EarlyStopping will restore weights after the last epoch only if it is not stop early\n",
        "        if self.stopped_epoch > 0:\n",
        "            print(\"Epoch {}: early stopping\".format(self.stopped_epoch + 1))\n",
        "        else:\n",
        "            print(\"Training stop after the last epoch. Restoring model weights from the end of the best epoch.\")\n",
        "            self.model.set_weights(self.best_weights)"
      ]
    },
    {
      "cell_type": "code",
      "execution_count": 185,
      "metadata": {
        "id": "dg2toYR8Y1WV"
      },
      "outputs": [],
      "source": [
        "xception.compile(RMSprop(learning_rate=7e-3), loss='categorical_crossentropy', metrics=['accuracy'])"
      ]
    },
    {
      "cell_type": "code",
      "execution_count": 186,
      "metadata": {
        "colab": {
          "base_uri": "https://localhost:8080/"
        },
        "id": "Lp-gJ4L7Y1WW",
        "outputId": "3abf322b-3320-4bfc-abf2-0a5bdc4d5eac"
      },
      "outputs": [
        {
          "output_type": "stream",
          "name": "stdout",
          "text": [
            "Epoch 1/50\n",
            "4/4 - 13s - loss: 6.0217 - accuracy: 0.3500 - val_loss: 25454.8613 - val_accuracy: 0.5000 - 13s/epoch - 3s/step\n",
            "Epoch 2/50\n",
            "4/4 - 3s - loss: 5.6583 - accuracy: 0.3750 - val_loss: 79.2738 - val_accuracy: 0.3333 - 3s/epoch - 655ms/step\n",
            "Epoch 3/50\n",
            "4/4 - 3s - loss: 3.0538 - accuracy: 0.5500 - val_loss: 6.9116 - val_accuracy: 0.4000 - 3s/epoch - 631ms/step\n",
            "Epoch 4/50\n",
            "4/4 - 2s - loss: 3.5230 - accuracy: 0.5250 - val_loss: 31.3124 - val_accuracy: 0.5333 - 2s/epoch - 613ms/step\n",
            "Epoch 5/50\n",
            "4/4 - 2s - loss: 2.0111 - accuracy: 0.4750 - val_loss: 98.2265 - val_accuracy: 0.5333 - 2s/epoch - 614ms/step\n",
            "Epoch 6/50\n",
            "4/4 - 2s - loss: 1.5080 - accuracy: 0.5250 - val_loss: 95.6941 - val_accuracy: 0.4333 - 2s/epoch - 605ms/step\n",
            "Epoch 7/50\n",
            "4/4 - 2s - loss: 2.9143 - accuracy: 0.5250 - val_loss: 1.1106 - val_accuracy: 0.4333 - 2s/epoch - 583ms/step\n",
            "Epoch 8/50\n",
            "4/4 - 2s - loss: 1.5770 - accuracy: 0.5000 - val_loss: 9.1686 - val_accuracy: 0.5000 - 2s/epoch - 609ms/step\n",
            "Epoch 9/50\n",
            "4/4 - 2s - loss: 1.2684 - accuracy: 0.6500 - val_loss: 342.0426 - val_accuracy: 0.4333 - 2s/epoch - 549ms/step\n",
            "Epoch 10/50\n",
            "4/4 - 2s - loss: 2.3912 - accuracy: 0.4500 - val_loss: 15.2533 - val_accuracy: 0.5000 - 2s/epoch - 545ms/step\n",
            "Epoch 11/50\n",
            "4/4 - 2s - loss: 1.5437 - accuracy: 0.5750 - val_loss: 20.7333 - val_accuracy: 0.6333 - 2s/epoch - 545ms/step\n",
            "Epoch 12/50\n",
            "4/4 - 2s - loss: 2.2815 - accuracy: 0.5750 - val_loss: 1204.5435 - val_accuracy: 0.5333 - 2s/epoch - 530ms/step\n",
            "Epoch 13/50\n",
            "4/4 - 2s - loss: 0.7653 - accuracy: 0.5750 - val_loss: 86.3861 - val_accuracy: 0.5000 - 2s/epoch - 611ms/step\n",
            "Epoch 14/50\n",
            "4/4 - 2s - loss: 2.3023 - accuracy: 0.4500 - val_loss: 23.1019 - val_accuracy: 0.5000 - 2s/epoch - 599ms/step\n",
            "Epoch 15/50\n",
            "4/4 - 2s - loss: 0.6376 - accuracy: 0.6750 - val_loss: 1322.1721 - val_accuracy: 0.5667 - 2s/epoch - 537ms/step\n",
            "Epoch 16/50\n",
            "4/4 - 2s - loss: 2.6799 - accuracy: 0.3750 - val_loss: 205.8638 - val_accuracy: 0.5667 - 2s/epoch - 601ms/step\n",
            "Epoch 17/50\n",
            "4/4 - 2s - loss: 2.7702 - accuracy: 0.4500 - val_loss: 21.2467 - val_accuracy: 0.5333 - 2s/epoch - 592ms/step\n",
            "Epoch 18/50\n",
            "4/4 - 2s - loss: 2.2235 - accuracy: 0.4750 - val_loss: 13.7079 - val_accuracy: 0.4667 - 2s/epoch - 599ms/step\n",
            "Epoch 19/50\n",
            "4/4 - 2s - loss: 1.8955 - accuracy: 0.5000 - val_loss: 4.2690 - val_accuracy: 0.4667 - 2s/epoch - 534ms/step\n",
            "Epoch 20/50\n",
            "4/4 - 2s - loss: 0.8647 - accuracy: 0.7000 - val_loss: 3.1033 - val_accuracy: 0.6667 - 2s/epoch - 591ms/step\n",
            "Epoch 21/50\n",
            "4/4 - 2s - loss: 0.8180 - accuracy: 0.5250 - val_loss: 7.9130 - val_accuracy: 0.4000 - 2s/epoch - 527ms/step\n",
            "Epoch 22/50\n",
            "4/4 - 2s - loss: 1.2813 - accuracy: 0.4750 - val_loss: 0.7790 - val_accuracy: 0.4667 - 2s/epoch - 552ms/step\n",
            "Epoch 23/50\n",
            "4/4 - 3s - loss: 0.8562 - accuracy: 0.5500 - val_loss: 15.6132 - val_accuracy: 0.4333 - 3s/epoch - 763ms/step\n",
            "Epoch 24/50\n",
            "4/4 - 2s - loss: 1.1937 - accuracy: 0.5750 - val_loss: 54.3656 - val_accuracy: 0.6000 - 2s/epoch - 534ms/step\n",
            "Epoch 25/50\n",
            "4/4 - 2s - loss: 0.8133 - accuracy: 0.6250 - val_loss: 29.3933 - val_accuracy: 0.5667 - 2s/epoch - 593ms/step\n",
            "Epoch 26/50\n",
            "4/4 - 2s - loss: 1.1591 - accuracy: 0.7250 - val_loss: 3.4948 - val_accuracy: 0.6333 - 2s/epoch - 528ms/step\n",
            "Epoch 27/50\n",
            "4/4 - 2s - loss: 0.7811 - accuracy: 0.6000 - val_loss: 28.7948 - val_accuracy: 0.5333 - 2s/epoch - 583ms/step\n",
            "Epoch 28/50\n",
            "4/4 - 2s - loss: 1.4455 - accuracy: 0.5750 - val_loss: 48.6469 - val_accuracy: 0.5667 - 2s/epoch - 595ms/step\n",
            "Epoch 29/50\n",
            "4/4 - 2s - loss: 1.0758 - accuracy: 0.6500 - val_loss: 9.0590 - val_accuracy: 0.5000 - 2s/epoch - 589ms/step\n",
            "Epoch 30/50\n",
            "4/4 - 2s - loss: 1.4520 - accuracy: 0.5500 - val_loss: 68.7242 - val_accuracy: 0.6000 - 2s/epoch - 595ms/step\n",
            "Epoch 31/50\n",
            "4/4 - 2s - loss: 1.4558 - accuracy: 0.5750 - val_loss: 51.5901 - val_accuracy: 0.5000 - 2s/epoch - 596ms/step\n",
            "Epoch 32/50\n",
            "4/4 - 2s - loss: 0.8500 - accuracy: 0.6750 - val_loss: 68.5511 - val_accuracy: 0.4333 - 2s/epoch - 590ms/step\n",
            "Epoch 33/50\n",
            "4/4 - 2s - loss: 0.8421 - accuracy: 0.5250 - val_loss: 17.7585 - val_accuracy: 0.3667 - 2s/epoch - 595ms/step\n",
            "Epoch 34/50\n",
            "4/4 - 2s - loss: 0.6701 - accuracy: 0.6000 - val_loss: 17.2575 - val_accuracy: 0.5000 - 2s/epoch - 537ms/step\n",
            "Epoch 35/50\n",
            "4/4 - 2s - loss: 1.5356 - accuracy: 0.4000 - val_loss: 0.8043 - val_accuracy: 0.6333 - 2s/epoch - 592ms/step\n",
            "Epoch 36/50\n",
            "4/4 - 2s - loss: 1.3460 - accuracy: 0.5750 - val_loss: 31.4984 - val_accuracy: 0.5000 - 2s/epoch - 599ms/step\n",
            "Epoch 37/50\n",
            "Restoring model weights from the end of the best epoch: 22.\n",
            "4/4 - 2s - loss: 1.8897 - accuracy: 0.5250 - val_loss: 1302.4313 - val_accuracy: 0.6000 - 2s/epoch - 622ms/step\n",
            "Epoch 37: early stopping\n"
          ]
        }
      ],
      "source": [
        "# Callback to save the current best model\n",
        "epochs = 50\n",
        "patience = epochs\n",
        "\n",
        "my_callbacks = [\n",
        "    tf.keras.callbacks.EarlyStopping(monitor='val_loss', patience=15, mode='min', verbose=1, restore_best_weights=True),\n",
        "    #CustomEarlyStopping(patience=patience),\n",
        "    #tf.keras.callbacks.ModelCheckpoint(filepath='batik-recognition-model.{epoch:03d}.hdf5',  monitor='val_accuracy', mode='max', verbose=0, save_best_only=False),\n",
        "    tf.keras.callbacks.TensorBoard(log_dir='./logs'),\n",
        "]\n",
        "\n",
        "# Using Batch Gradient Descent (batch_size = training_examples) because data is less than 2000\n",
        "# Stochastic Gradient Descent (batch_size = 1)\n",
        "# Mini-Batch Gradient Descent (batch_size = 1 < number_power_of_2 < training_examples)\n",
        "# steps per epoch = 18\n",
        "# validation steps = 3\n",
        "history = xception.fit(train_batches, \n",
        "                        steps_per_epoch=4, \n",
        "                        batch_size=training_examples, \n",
        "                        validation_data=valid_batches, \n",
        "                        validation_steps=2, \n",
        "                        epochs=epochs, verbose=2, \n",
        "                        callbacks=my_callbacks,\n",
        "                        shuffle=True)"
      ]
    },
    {
      "cell_type": "code",
      "execution_count": 187,
      "metadata": {
        "id": "_YjotpcCY1WW"
      },
      "outputs": [],
      "source": [
        "def load_dataset(path):\n",
        "    data = load_files(path)\n",
        "    paths = np.array(data['filenames'])\n",
        "    targets = np_utils.to_categorical(np.array(data['target']))\n",
        "    return paths, targets"
      ]
    },
    {
      "cell_type": "code",
      "execution_count": 188,
      "metadata": {
        "id": "2e-ZFqEaY1WX"
      },
      "outputs": [],
      "source": [
        "from sklearn.datasets import load_files\n",
        "from keras.utils import np_utils\n",
        "import numpy as np\n",
        "\n",
        "test_files, test_targets = load_dataset(test_path)"
      ]
    },
    {
      "cell_type": "code",
      "execution_count": 189,
      "metadata": {
        "id": "YZTRmdooUOCR",
        "colab": {
          "base_uri": "https://localhost:8080/"
        },
        "outputId": "cd01db25-19b3-4dd4-b986-a27690b02278"
      },
      "outputs": [
        {
          "output_type": "stream",
          "name": "stderr",
          "text": [
            "100%|██████████| 320/320 [00:01<00:00, 202.17it/s]\n"
          ]
        }
      ],
      "source": [
        "from keras.preprocessing import image  \n",
        "from tqdm import tqdm\n",
        "\n",
        "def path_to_tensor(img_path):\n",
        "    img = image.load_img(img_path, target_size=(299, 299))\n",
        "    x = image.img_to_array(img)\n",
        "    return np.expand_dims(x, axis=0)\n",
        "\n",
        "def paths_to_tensor(img_paths):\n",
        "    list_of_tensors = [path_to_tensor(img_path) for img_path in tqdm(img_paths)]\n",
        "    return np.vstack(list_of_tensors)\n",
        "\n",
        "test_tensors = preprocess_input(paths_to_tensor(test_files))"
      ]
    },
    {
      "cell_type": "code",
      "execution_count": 190,
      "metadata": {
        "id": "UNOvbJI0UQyz",
        "colab": {
          "base_uri": "https://localhost:8080/"
        },
        "outputId": "5814fa56-c509-4497-f681-cedc84dc7731"
      },
      "outputs": [
        {
          "output_type": "stream",
          "name": "stdout",
          "text": [
            "10/10 [==============================] - 4s 322ms/step - loss: 0.6700 - accuracy: 0.5469\n",
            "\n",
            "Testing loss: 0.6700\n",
            "Testing accuracy: 0.5469\n"
          ]
        }
      ],
      "source": [
        "# Model Testing\n",
        "# if you want to select the model yourself, uncomment the next line and change the filename as the one you choose\n",
        "# new_model.load_weights('filename.hdf5')\n",
        "\n",
        "print('\\nTesting loss: {:.4f}\\nTesting accuracy: {:.4f}'.format(*xception.evaluate(test_tensors, test_targets)))"
      ]
    },
    {
      "cell_type": "code",
      "execution_count": 191,
      "metadata": {
        "id": "RrCuxDCuUTW6",
        "colab": {
          "base_uri": "https://localhost:8080/",
          "height": 486
        },
        "outputId": "688b37be-f11d-4e4c-a006-527cc70cb9ab"
      },
      "outputs": [
        {
          "output_type": "display_data",
          "data": {
            "text/plain": [
              "<Figure size 864x432 with 2 Axes>"
            ],
            "image/png": "[encoded data removed]"
          },
          "metadata": {
            "needs_background": "light"
          }
        }
      ],
      "source": [
        "# Confussion Matrix\n",
        "from sklearn.metrics import confusion_matrix\n",
        "\n",
        "cm_labels = ['Pekalongan', 'Bukan Pekalongan']\n",
        "\n",
        "y_true = np.argmax(test_targets, axis=1)\n",
        "y_pred = np.argmax(xception.predict(test_tensors), axis=1)\n",
        "\n",
        "plt.figure(figsize=(12, 6))\n",
        "cm = confusion_matrix(y_true, y_pred)\n",
        "plt.imshow(cm, cmap=plt.cm.Blues)\n",
        "plt.colorbar()\n",
        "indexes = np.arange(len(cm_labels))\n",
        "for i in indexes:\n",
        "    for j in indexes:\n",
        "        plt.text(j, i, cm[i, j])\n",
        "plt.xticks(indexes, cm_labels, rotation=90)\n",
        "plt.xlabel('Predicted label')\n",
        "plt.yticks(indexes, cm_labels)\n",
        "plt.ylabel('True label')\n",
        "plt.title('Confusion Matrix, Early Stopping Best Model')\n",
        "plt.show()"
      ]
    },
    {
      "cell_type": "code",
      "execution_count": 192,
      "metadata": {
        "id": "EsqYNyL1UYkG",
        "colab": {
          "base_uri": "https://localhost:8080/"
        },
        "outputId": "cadaf47f-1eff-4899-be3b-ef2982b0e56a"
      },
      "outputs": [
        {
          "output_type": "stream",
          "name": "stdout",
          "text": [
            "                  precision    recall  f1-score   support\n",
            "\n",
            "      Pekalongan       0.57      0.36      0.44       160\n",
            "Bukan Pekalongan       0.53      0.73      0.62       160\n",
            "\n",
            "        accuracy                           0.55       320\n",
            "       macro avg       0.55      0.55      0.53       320\n",
            "    weighted avg       0.55      0.55      0.53       320\n",
            "\n"
          ]
        }
      ],
      "source": [
        "# Classification Report\n",
        "from sklearn.metrics import classification_report\n",
        "print(classification_report(np.argmax(test_targets, axis=1), np.argmax(xception.predict(test_tensors), axis=1), target_names=cm_labels))"
      ]
    },
    {
      "cell_type": "code",
      "execution_count": 193,
      "metadata": {
        "id": "cuRuiTk340rK",
        "colab": {
          "base_uri": "https://localhost:8080/"
        },
        "outputId": "179b8b80-0c6a-40d3-f0c4-0b78315a1253"
      },
      "outputs": [
        {
          "output_type": "execute_result",
          "data": {
            "text/plain": [
              "array([0.51485738, 0.51485738])"
            ]
          },
          "metadata": {},
          "execution_count": 193
        }
      ],
      "source": [
        "# Geometric Mean\n",
        "from imblearn.metrics import geometric_mean_score\n",
        "geometric_mean_score(y_true, y_pred, pos_label=1, average=None, correction=0.0)"
      ]
    }
  ],
  "metadata": {
    "accelerator": "GPU",
    "colab": {
      "collapsed_sections": [],
      "name": "Xception 2 Class Experiment.ipynb",
      "provenance": []
    },
    "gpuClass": "standard",
    "interpreter": {
      "hash": "55b315c3dbf10ef7f12b59bd8ad1fda37f03e8048b8c0ccbc36f7a976bce2219"
    },
    "kernelspec": {
      "display_name": "Python 3.8.6 64-bit",
      "language": "python",
      "name": "python3"
    },
    "language_info": {
      "codemirror_mode": {
        "name": "ipython",
        "version": 3
      },
      "file_extension": ".py",
      "mimetype": "text/x-python",
      "name": "python",
      "nbconvert_exporter": "python",
      "pygments_lexer": "ipython3",
      "version": "3.8.6"
    }
  },
  "nbformat": 4,
  "nbformat_minor": 0
}