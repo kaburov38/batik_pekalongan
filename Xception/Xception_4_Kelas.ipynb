{
  "cells": [
    {
      "cell_type": "code",
      "execution_count": null,
      "metadata": {
        "colab": {
          "base_uri": "https://localhost:8080/"
        },
        "id": "9xyalPcwY1WO",
        "outputId": "8fb9253f-4d01-4374-e099-40449cb598ab"
      },
      "outputs": [
        {
          "name": "stdout",
          "output_type": "stream",
          "text": [
            "Mounted at /content/drive\n"
          ]
        }
      ],
      "source": [
        "# Import Dataset\n",
        "import tensorflow as tf\n",
        "import matplotlib.pyplot as plt\n",
        "import numpy as np\n",
        "import itertools\n",
        "import os\n",
        "import tensorflow.keras.backend as K\n",
        "\n",
        "from tensorflow import keras\n",
        "from tensorflow.keras import layers\n",
        "from tensorflow.keras.preprocessing.image import ImageDataGenerator\n",
        "from tensorflow.keras.preprocessing import image\n",
        "from tensorflow.keras.applications import imagenet_utils\n",
        "from tensorflow.keras.optimizers import Adam, SGD, RMSprop\n",
        "from tensorflow.keras.metrics import categorical_crossentropy\n",
        "from keras.applications.xception import preprocess_input\n",
        "from sklearn.metrics import confusion_matrix\n",
        "from google.colab import drive\n",
        "\n",
        "# Accessing My Google Drive\n",
        "drive.mount('/content/drive', force_remount=True)"
      ]
    },
    {
      "cell_type": "code",
      "execution_count": null,
      "metadata": {
        "id": "Ewrz5ZgaY1WQ"
      },
      "outputs": [],
      "source": [
        "# Location Path\n",
        "train_path  = 'drive/My Drive/data pekalongan/train'\n",
        "valid_path  = 'drive/My Drive/data pekalongan/valid'\n",
        "test_path  = 'drive/My Drive/data pekalongan/test'"
      ]
    },
    {
      "cell_type": "code",
      "execution_count": null,
      "metadata": {
        "colab": {
          "base_uri": "https://localhost:8080/"
        },
        "id": "JKHn3IwRY1WQ",
        "outputId": "c699dd3c-8b49-4c97-cb78-4bc82aef8289"
      },
      "outputs": [
        {
          "name": "stdout",
          "output_type": "stream",
          "text": [
            "Found 1834 images belonging to 4 classes.\n",
            "Found 160 images belonging to 4 classes.\n",
            "Found 160 images belonging to 4 classes.\n"
          ]
        }
      ],
      "source": [
        "# Data Augmentation\n",
        "datagen = ImageDataGenerator(\n",
        "    rotation_range=30,\n",
        "    width_shift_range=0.2,\n",
        "    height_shift_range=0.2,\n",
        "    shear_range=0.1,\n",
        "    zoom_range=0.3,\n",
        "    horizontal_flip=True,\n",
        "    vertical_flip=True,\n",
        "    preprocessing_function=preprocess_input,\n",
        "    rescale=1./127.5-1.,\n",
        ")\n",
        "\n",
        "# Train, Test, Validation\n",
        "train_batches = datagen.flow_from_directory(\n",
        "    train_path, target_size=(299,299), batch_size=10)\n",
        "valid_batches = datagen.flow_from_directory(\n",
        "    valid_path, target_size=(299,299), batch_size=15)\n",
        "test_batches = datagen.flow_from_directory(\n",
        "    test_path, target_size=(299,299), batch_size=40)"
      ]
    },
    {
      "cell_type": "code",
      "execution_count": null,
      "metadata": {
        "colab": {
          "base_uri": "https://localhost:8080/"
        },
        "id": "7aL1hquC-Q5D",
        "outputId": "04c09642-9032-44d5-bab6-dbc011c9938f"
      },
      "outputs": [
        {
          "name": "stdout",
          "output_type": "stream",
          "text": [
            "dict_items([(0, 456), (1, 460), (2, 460), (3, 458)])\n",
            "1834\n"
          ]
        }
      ],
      "source": [
        "from collections import Counter\n",
        "\n",
        "samples = Counter(train_batches.classes)\n",
        "\n",
        "print(samples.items()) # dict_items([(0, 1648), (1, 3614)])\n",
        "\n",
        "training_examples = 0;\n",
        "for item in samples.items():\n",
        "    training_examples += item[1]\n",
        "\n",
        "print(training_examples)"
      ]
    },
    {
      "cell_type": "code",
      "execution_count": null,
      "metadata": {
        "id": "I5HE-0el3iXp"
      },
      "outputs": [],
      "source": [
        "def entry_flow(inputs):\n",
        "\n",
        "  x = layers.Conv2D(32, 3, strides=2, padding='same')(inputs)\n",
        "  x = layers.BatchNormalization()(x)\n",
        "  x = layers.Activation('relu')(x)\n",
        "\n",
        "  x = layers.Conv2D(64, 3, padding='same')(x)\n",
        "  x = layers.BatchNormalization()(x)\n",
        "  x = layers.Activation('relu')(x)\n",
        "\n",
        "  previous_block_activation = x  # Set aside residual\n",
        "  \n",
        "  # Blocks 1, 2, 3 are identical apart from the feature depth.\n",
        "  for size in [128, 256, 728]:\n",
        "    x = layers.Activation('relu')(x)\n",
        "    x = layers.SeparableConv2D(size, 3, padding='same')(x)\n",
        "    x = layers.BatchNormalization()(x)\n",
        "\n",
        "    x = layers.Activation('relu')(x)\n",
        "    x = layers.SeparableConv2D(size, 3, padding='same')(x)\n",
        "    x = layers.BatchNormalization()(x)\n",
        "\n",
        "    x = layers.MaxPooling2D(3, strides=2, padding='same')(x)\n",
        "    \n",
        "    residual = layers.Conv2D(  # Project residual\n",
        "        size, 1, strides=2, padding='same')(previous_block_activation)           \n",
        "    x = layers.add([x, residual])  # Add back residual\n",
        "    previous_block_activation = x  # Set aside next residual\n",
        "\n",
        "  return x\n",
        "\n",
        "\n",
        "def middle_flow(x, num_blocks=8):\n",
        "  \n",
        "  previous_block_activation = x\n",
        "\n",
        "  for _ in range(num_blocks):\n",
        "    x = layers.Activation('relu')(x)\n",
        "    x = layers.SeparableConv2D(728, 3, padding='same')(x)\n",
        "    x = layers.BatchNormalization()(x)\n",
        "\n",
        "    x = layers.Activation('relu')(x)\n",
        "    x = layers.SeparableConv2D(728, 3, padding='same')(x)\n",
        "    x = layers.BatchNormalization()(x)\n",
        "    \n",
        "    x = layers.Activation('relu')(x)\n",
        "    x = layers.SeparableConv2D(728, 3, padding='same')(x)\n",
        "    x = layers.BatchNormalization()(x)\n",
        "\n",
        "    x = layers.add([x, previous_block_activation])  # Add back residual\n",
        "    previous_block_activation = x  # Set aside next residual\n",
        "    \n",
        "  return x\n",
        "\n",
        "\n",
        "def exit_flow(x, num_classes=1000):\n",
        "  \n",
        "  previous_block_activation = x\n",
        "\n",
        "  x = layers.Activation('relu')(x)\n",
        "  x = layers.SeparableConv2D(728, 3, padding='same')(x)\n",
        "  x = layers.BatchNormalization()(x)\n",
        "\n",
        "  x = layers.Activation('relu')(x)\n",
        "  x = layers.SeparableConv2D(1024, 3, padding='same')(x)\n",
        "  x = layers.BatchNormalization()(x)\n",
        "  \n",
        "  x = layers.MaxPooling2D(3, strides=2, padding='same')(x)\n",
        "\n",
        "  residual = layers.Conv2D(  # Project residual\n",
        "      1024, 1, strides=2, padding='same')(previous_block_activation)\n",
        "  x = layers.add([x, residual])  # Add back residual\n",
        "  \n",
        "  x = layers.SeparableConv2D(1536, 3, padding='same')(x)\n",
        "  x = layers.BatchNormalization()(x)\n",
        "  x = layers.Activation('relu')(x)\n",
        "  \n",
        "  x = layers.SeparableConv2D(2048, 3, padding='same')(x)\n",
        "  x = layers.BatchNormalization()(x)\n",
        "  x = layers.Activation('relu')(x)\n",
        "  \n",
        "  x = layers.GlobalAveragePooling2D()(x)\n",
        "  if num_classes == 1:\n",
        "    activation = 'sigmoid'\n",
        "  else:\n",
        "    activation = 'softmax'\n",
        "  return layers.Dense(num_classes, activation=activation)(x)"
      ]
    },
    {
      "cell_type": "code",
      "execution_count": null,
      "metadata": {
        "id": "d4_96LWHY1WU"
      },
      "outputs": [],
      "source": [
        "keras.backend.clear_session()\n",
        "\n",
        "# Create Xception by chaining the 3 flows\n",
        "inputs = keras.Input(shape=(299, 299, 3))\n",
        "outputs = exit_flow(middle_flow(entry_flow(inputs), num_blocks=8), num_classes=4)\n",
        "xception = keras.Model(inputs, outputs)"
      ]
    },
    {
      "cell_type": "code",
      "execution_count": null,
      "metadata": {
        "id": "E9_jGuo9sPYi"
      },
      "outputs": [],
      "source": [
        "# Custom Early Stopping\n",
        "# Expected behavior: EarlyStopping should restore weights on end of training regardless it stop training early or after the last epoch\n",
        "\n",
        "class CustomEarlyStopping(tf.keras.callbacks.Callback):\n",
        "    def __init__(self, patience=0):\n",
        "        super(CustomEarlyStopping, self).__init__()\n",
        "        self.patience = patience\n",
        "        self.best_weights = None\n",
        "        \n",
        "    def on_train_begin(self, logs=None):\n",
        "        # The number of epoch it has waited when loss is no longer minimum.\n",
        "        self.wait = 0\n",
        "        # The epoch the training stops at.\n",
        "        self.stopped_epoch = 0\n",
        "        # Initialize the best as infinity.\n",
        "        self.best_val_loss = np.Inf\n",
        "        self.best_loss = np.Inf\n",
        "        self.best_val_accuracy = 0.0\n",
        "        self.best_accuracy = 0.0\n",
        "\n",
        "    def on_epoch_end(self, epoch, logs=None): \n",
        "        val_loss = logs.get('val_loss')\n",
        "        loss = logs.get('loss')\n",
        "        val_accuracy = logs.get('val_accuracy')\n",
        "        accuracy = logs.get('accuracy')\n",
        "\n",
        "        # if np.less(val_loss, self.best_val_loss) and np.greater(map10, self.best_map10):\n",
        "        if np.greater_equal(val_accuracy, self.best_val_accuracy) and np.greater_equal(accuracy, self.best_accuracy) and np.greater_equal(accuracy, val_accuracy):\n",
        "            self.best_val_loss = val_loss\n",
        "            self.best_loss = loss\n",
        "            self.best_val_accuracy = val_accuracy\n",
        "            self.best_accuracy = accuracy\n",
        "            self.wait = 0\n",
        "\n",
        "            # Record the best weights if current results is better.\n",
        "            print(\"Saving the best weight at epoch {}\".format(epoch + 1))\n",
        "            self.best_weights = self.model.get_weights()\n",
        "        else:\n",
        "            self.wait += 1\n",
        "            if self.wait >= self.patience:\n",
        "                self.stopped_epoch = epoch\n",
        "                self.model.stop_training = True\n",
        "                print(\"Training stop early. Restoring model weights from the end of the best epoch.\")\n",
        "                self.model.set_weights(self.best_weights)\n",
        "                \n",
        "    def on_train_end(self, logs=None):\n",
        "        # EarlyStopping will restore weights after the last epoch only if it is not stop early\n",
        "        if self.stopped_epoch > 0:\n",
        "            print(\"Epoch {}: early stopping\".format(self.stopped_epoch + 1))\n",
        "        else:\n",
        "            print(\"Training stop after the last epoch. Restoring model weights from the end of the best epoch.\")\n",
        "            self.model.set_weights(self.best_weights)"
      ]
    },
    {
      "cell_type": "code",
      "execution_count": null,
      "metadata": {
        "id": "dg2toYR8Y1WV"
      },
      "outputs": [],
      "source": [
        "xception.compile(RMSprop(learning_rate=1e-4), loss='categorical_crossentropy', metrics=['accuracy'])"
      ]
    },
    {
      "cell_type": "code",
      "execution_count": null,
      "metadata": {
        "colab": {
          "background_save": true,
          "base_uri": "https://localhost:8080/"
        },
        "id": "Lp-gJ4L7Y1WW",
        "outputId": "0aef8c72-d9ac-4fdd-f23b-8803d8d32822"
      },
      "outputs": [
        {
          "name": "stdout",
          "output_type": "stream",
          "text": [
            "Epoch 1/50\n",
            "4/4 - 106s - loss: 16.2980 - accuracy: 0.2500 - val_loss: 9123589120.0000 - val_accuracy: 0.3000 - 106s/epoch - 27s/step\n",
            "Epoch 2/50\n",
            "Saving the best weight at epoch 2\n",
            "4/4 - 84s - loss: 7.2532 - accuracy: 0.2750 - val_loss: 37185096.0000 - val_accuracy: 0.2667 - 84s/epoch - 21s/step\n",
            "Epoch 3/50\n",
            "4/4 - 82s - loss: 3.7886 - accuracy: 0.2750 - val_loss: 14192149.0000 - val_accuracy: 0.2000 - 82s/epoch - 20s/step\n",
            "Epoch 4/50\n",
            "4/4 - 77s - loss: 5.8166 - accuracy: 0.1750 - val_loss: 1318.6537 - val_accuracy: 0.2333 - 77s/epoch - 19s/step\n",
            "Epoch 5/50\n",
            "4/4 - 82s - loss: 2.4621 - accuracy: 0.2250 - val_loss: 17.3250 - val_accuracy: 0.2333 - 82s/epoch - 20s/step\n",
            "Epoch 6/50\n",
            "Saving the best weight at epoch 6\n",
            "4/4 - 84s - loss: 2.0525 - accuracy: 0.4000 - val_loss: 1.9899 - val_accuracy: 0.3667 - 84s/epoch - 21s/step\n",
            "Epoch 7/50\n",
            "4/4 - 85s - loss: 4.9729 - accuracy: 0.2750 - val_loss: 29720082.0000 - val_accuracy: 0.1000 - 85s/epoch - 21s/step\n",
            "Epoch 8/50\n",
            "4/4 - 83s - loss: 3.2558 - accuracy: 0.2500 - val_loss: 295823.0625 - val_accuracy: 0.2667 - 83s/epoch - 21s/step\n",
            "Epoch 9/50\n",
            "4/4 - 82s - loss: 2.5761 - accuracy: 0.2250 - val_loss: 254.9529 - val_accuracy: 0.2333 - 82s/epoch - 21s/step\n",
            "Epoch 10/50\n",
            "4/4 - 88s - loss: 2.7935 - accuracy: 0.1250 - val_loss: 1.3895 - val_accuracy: 0.1667 - 88s/epoch - 22s/step\n",
            "Epoch 11/50\n",
            "4/4 - 83s - loss: 3.3650 - accuracy: 0.3250 - val_loss: 2.0246 - val_accuracy: 0.2000 - 83s/epoch - 21s/step\n",
            "Epoch 12/50\n",
            "4/4 - 75s - loss: 2.0986 - accuracy: 0.1750 - val_loss: 1.3936 - val_accuracy: 0.2000 - 75s/epoch - 19s/step\n",
            "Epoch 13/50\n",
            "4/4 - 84s - loss: 2.7637 - accuracy: 0.1250 - val_loss: 867.5144 - val_accuracy: 0.3000 - 84s/epoch - 21s/step\n",
            "Epoch 14/50\n",
            "4/4 - 82s - loss: 1.5510 - accuracy: 0.2500 - val_loss: 258.5318 - val_accuracy: 0.2000 - 82s/epoch - 20s/step\n",
            "Epoch 15/50\n",
            "4/4 - 75s - loss: 1.6563 - accuracy: 0.3250 - val_loss: 5.3327 - val_accuracy: 0.2333 - 75s/epoch - 19s/step\n",
            "Epoch 16/50\n",
            "4/4 - 74s - loss: 1.3571 - accuracy: 0.3500 - val_loss: 3.1557 - val_accuracy: 0.3333 - 74s/epoch - 18s/step\n",
            "Epoch 17/50\n",
            "4/4 - 85s - loss: 1.5386 - accuracy: 0.3250 - val_loss: 1.4677 - val_accuracy: 0.3000 - 85s/epoch - 21s/step\n",
            "Epoch 18/50\n",
            "4/4 - 85s - loss: 1.4763 - accuracy: 0.2000 - val_loss: 2.1562 - val_accuracy: 0.1667 - 85s/epoch - 21s/step\n",
            "Epoch 19/50\n",
            "4/4 - 83s - loss: 1.4275 - accuracy: 0.2250 - val_loss: 1.3913 - val_accuracy: 0.2333 - 83s/epoch - 21s/step\n",
            "Epoch 20/50\n",
            "4/4 - 82s - loss: 1.4139 - accuracy: 0.2750 - val_loss: 1.3929 - val_accuracy: 0.1667 - 82s/epoch - 20s/step\n",
            "Epoch 21/50\n",
            "4/4 - 83s - loss: 1.4144 - accuracy: 0.2500 - val_loss: 1.3713 - val_accuracy: 0.3000 - 83s/epoch - 21s/step\n",
            "Epoch 22/50\n",
            "4/4 - 83s - loss: 1.3753 - accuracy: 0.1750 - val_loss: 1.3795 - val_accuracy: 0.3333 - 83s/epoch - 21s/step\n",
            "Epoch 23/50\n",
            "4/4 - 87s - loss: 1.3889 - accuracy: 0.2250 - val_loss: 2.0951 - val_accuracy: 0.2000 - 87s/epoch - 22s/step\n",
            "Epoch 24/50\n",
            "4/4 - 82s - loss: 1.5163 - accuracy: 0.3750 - val_loss: 5.4248 - val_accuracy: 0.2000 - 82s/epoch - 21s/step\n",
            "Epoch 25/50\n",
            "4/4 - 75s - loss: 3.4545 - accuracy: 0.3000 - val_loss: 2623.4858 - val_accuracy: 0.2000 - 75s/epoch - 19s/step\n",
            "Epoch 26/50\n",
            "4/4 - 82s - loss: 1.8465 - accuracy: 0.2750 - val_loss: 44157.5977 - val_accuracy: 0.2000 - 82s/epoch - 21s/step\n",
            "Epoch 27/50\n",
            "4/4 - 83s - loss: 1.4224 - accuracy: 0.2750 - val_loss: 6005.3657 - val_accuracy: 0.3000 - 83s/epoch - 21s/step\n",
            "Epoch 28/50\n",
            "4/4 - 84s - loss: 1.3402 - accuracy: 0.4250 - val_loss: 601.7778 - val_accuracy: 0.3000 - 84s/epoch - 21s/step\n",
            "Epoch 29/50\n",
            "4/4 - 75s - loss: 1.4168 - accuracy: 0.1750 - val_loss: 731.4522 - val_accuracy: 0.3000 - 75s/epoch - 19s/step\n",
            "Epoch 30/50\n",
            "4/4 - 82s - loss: 1.3605 - accuracy: 0.2750 - val_loss: 2892.1360 - val_accuracy: 0.2667 - 82s/epoch - 21s/step\n",
            "Epoch 31/50\n",
            "4/4 - 82s - loss: 1.4805 - accuracy: 0.3250 - val_loss: 14.0937 - val_accuracy: 0.3000 - 82s/epoch - 20s/step\n",
            "Epoch 32/50\n",
            "4/4 - 84s - loss: 1.3999 - accuracy: 0.2250 - val_loss: 25.7768 - val_accuracy: 0.4000 - 84s/epoch - 21s/step\n",
            "Epoch 33/50\n",
            "4/4 - 74s - loss: 1.4028 - accuracy: 0.3250 - val_loss: 1.5212 - val_accuracy: 0.3000 - 74s/epoch - 19s/step\n",
            "Epoch 34/50\n",
            "4/4 - 75s - loss: 1.4053 - accuracy: 0.1750 - val_loss: 3.1244 - val_accuracy: 0.1667 - 75s/epoch - 19s/step\n",
            "Epoch 35/50\n",
            "4/4 - 82s - loss: 1.4018 - accuracy: 0.2000 - val_loss: 1.4422 - val_accuracy: 0.2333 - 82s/epoch - 20s/step\n",
            "Epoch 36/50\n",
            "4/4 - 84s - loss: 1.3917 - accuracy: 0.1750 - val_loss: 1.5509 - val_accuracy: 0.2333 - 84s/epoch - 21s/step\n",
            "Epoch 37/50\n",
            "4/4 - 84s - loss: 1.3734 - accuracy: 0.3500 - val_loss: 1.4000 - val_accuracy: 0.2667 - 84s/epoch - 21s/step\n",
            "Epoch 38/50\n",
            "4/4 - 81s - loss: 1.4004 - accuracy: 0.1750 - val_loss: 13.1255 - val_accuracy: 0.1667 - 81s/epoch - 20s/step\n",
            "Epoch 39/50\n",
            "Saving the best weight at epoch 39\n",
            "4/4 - 74s - loss: 1.3760 - accuracy: 0.4000 - val_loss: 4.1708 - val_accuracy: 0.3667 - 74s/epoch - 19s/step\n",
            "Epoch 40/50\n",
            "4/4 - 82s - loss: 1.3841 - accuracy: 0.1750 - val_loss: 5.6937 - val_accuracy: 0.2667 - 82s/epoch - 21s/step\n",
            "Epoch 41/50\n",
            "4/4 - 83s - loss: 1.3998 - accuracy: 0.2250 - val_loss: 29.9568 - val_accuracy: 0.2333 - 83s/epoch - 21s/step\n",
            "Epoch 42/50\n",
            "4/4 - 75s - loss: 1.7557 - accuracy: 0.2750 - val_loss: 1.3897 - val_accuracy: 0.2333 - 75s/epoch - 19s/step\n",
            "Epoch 43/50\n",
            "4/4 - 82s - loss: 1.8982 - accuracy: 0.1750 - val_loss: 42932.4961 - val_accuracy: 0.1000 - 82s/epoch - 20s/step\n",
            "Epoch 44/50\n",
            "4/4 - 83s - loss: 1.4886 - accuracy: 0.3500 - val_loss: 2745.6323 - val_accuracy: 0.3333 - 83s/epoch - 21s/step\n",
            "Epoch 45/50\n",
            "4/4 - 82s - loss: 1.4022 - accuracy: 0.3500 - val_loss: 638.7678 - val_accuracy: 0.2667 - 82s/epoch - 20s/step\n",
            "Epoch 46/50\n",
            "4/4 - 83s - loss: 1.3637 - accuracy: 0.4000 - val_loss: 434.3090 - val_accuracy: 0.2333 - 83s/epoch - 21s/step\n",
            "Epoch 47/50\n",
            "4/4 - 82s - loss: 1.3882 - accuracy: 0.3500 - val_loss: 89.4467 - val_accuracy: 0.3000 - 82s/epoch - 21s/step\n",
            "Epoch 48/50\n",
            "4/4 - 75s - loss: 1.3230 - accuracy: 0.2750 - val_loss: 1018.0141 - val_accuracy: 0.1000 - 75s/epoch - 19s/step\n",
            "Epoch 49/50\n",
            "4/4 - 83s - loss: 1.4538 - accuracy: 0.3250 - val_loss: 246.9033 - val_accuracy: 0.2667 - 83s/epoch - 21s/step\n",
            "Epoch 50/50\n",
            "4/4 - 82s - loss: 1.4556 - accuracy: 0.2750 - val_loss: 1437.0525 - val_accuracy: 0.2000 - 82s/epoch - 21s/step\n",
            "Training stop after the last epoch. Restoring model weights from the end of the best epoch.\n"
          ]
        }
      ],
      "source": [
        "# Callback to save the current best model\n",
        "epochs = 50\n",
        "patience = epochs\n",
        "\n",
        "my_callbacks = [\n",
        "    #tf.keras.callbacks.EarlyStopping(monitor='val_loss', patience=50, mode='min', verbose=1, restore_best_weights=True),\n",
        "    CustomEarlyStopping(patience=patience),\n",
        "    #tf.keras.callbacks.ModelCheckpoint(filepath='batik-recognition-model.{epoch:03d}.hdf5',  monitor='val_accuracy', mode='max', verbose=0, save_best_only=False),\n",
        "    tf.keras.callbacks.TensorBoard(log_dir='./logs'),\n",
        "]\n",
        "\n",
        "# Using Batch Gradient Descent (batch_size = training_examples) because data is less than 2000\n",
        "# Stochastic Gradient Descent (batch_size = 1)\n",
        "# Mini-Batch Gradient Descent (batch_size = 1 < number_power_of_2 < training_examples)\n",
        "# steps per epoch = 18\n",
        "# validation steps = 3\n",
        "history = xception.fit(train_batches, \n",
        "                        steps_per_epoch=4, \n",
        "                        batch_size=training_examples, \n",
        "                        validation_data=valid_batches, \n",
        "                        validation_steps=2, \n",
        "                        epochs=epochs, verbose=2, \n",
        "                        callbacks=my_callbacks, \n",
        "                        shuffle=True)"
      ]
    },
    {
      "cell_type": "code",
      "execution_count": null,
      "metadata": {
        "colab": {
          "background_save": true
        },
        "id": "_YjotpcCY1WW"
      },
      "outputs": [],
      "source": [
        "def load_dataset(path):\n",
        "    data = load_files(path)\n",
        "    paths = np.array(data['filenames'])\n",
        "    targets = np_utils.to_categorical(np.array(data['target']))\n",
        "    return paths, targets"
      ]
    },
    {
      "cell_type": "code",
      "execution_count": null,
      "metadata": {
        "colab": {
          "background_save": true
        },
        "id": "2e-ZFqEaY1WX"
      },
      "outputs": [],
      "source": [
        "from sklearn.datasets import load_files\n",
        "from keras.utils import np_utils\n",
        "import numpy as np\n",
        "\n",
        "test_files, test_targets = load_dataset(test_path)"
      ]
    },
    {
      "cell_type": "code",
      "execution_count": null,
      "metadata": {
        "colab": {
          "background_save": true
        },
        "id": "YZTRmdooUOCR",
        "outputId": "dd0b18b3-6d61-4ac6-cce1-0f3c5a3f17e0"
      },
      "outputs": [
        {
          "name": "stderr",
          "output_type": "stream",
          "text": [
            "100%|██████████| 160/160 [00:01<00:00, 108.60it/s]\n"
          ]
        }
      ],
      "source": [
        "from keras.preprocessing import image  \n",
        "from tqdm import tqdm\n",
        "\n",
        "def path_to_tensor(img_path):\n",
        "    img = image.load_img(img_path, target_size=(299, 299))\n",
        "    x = image.img_to_array(img)\n",
        "    return np.expand_dims(x, axis=0)\n",
        "\n",
        "def paths_to_tensor(img_paths):\n",
        "    list_of_tensors = [path_to_tensor(img_path) for img_path in tqdm(img_paths)]\n",
        "    return np.vstack(list_of_tensors)\n",
        "\n",
        "test_tensors = preprocess_input(paths_to_tensor(test_files))"
      ]
    },
    {
      "cell_type": "code",
      "execution_count": null,
      "metadata": {
        "colab": {
          "background_save": true
        },
        "id": "UNOvbJI0UQyz",
        "outputId": "99e7411c-3c2f-43bc-8329-5d3f5f35c27f"
      },
      "outputs": [
        {
          "name": "stdout",
          "output_type": "stream",
          "text": [
            "5/5 [==============================] - 61s 12s/step - loss: 44.9677 - accuracy: 0.2250\n",
            "\n",
            "Testing loss: 44.9677\n",
            "Testing accuracy: 0.2250\n"
          ]
        }
      ],
      "source": [
        "# Model Testing\n",
        "# if you want to select the model yourself, uncomment the next line and change the filename as the one you choose\n",
        "# new_model.load_weights('filename.hdf5')\n",
        "\n",
        "print('\\nTesting loss: {:.4f}\\nTesting accuracy: {:.4f}'.format(*xception.evaluate(test_tensors, test_targets)))"
      ]
    },
    {
      "cell_type": "code",
      "execution_count": null,
      "metadata": {
        "colab": {
          "background_save": true
        },
        "id": "RrCuxDCuUTW6",
        "outputId": "ed2f9a31-6379-4df5-dcac-13cf56ebcbe1"
      },
      "outputs": [
        {
          "data": {
            "image/png": "[encoded data removed]",
            "text/plain": [
              "<Figure size 864x432 with 2 Axes>"
            ]
          },
          "metadata": {},
          "output_type": "display_data"
        }
      ],
      "source": [
        "# Confussion Matrix\n",
        "from sklearn.metrics import confusion_matrix\n",
        "\n",
        "cm_labels = ['Batik Liong','Jamplrang', 'Terang Bulan', 'Tujuh Rupa']\n",
        "\n",
        "y_true = np.argmax(test_targets, axis=1)\n",
        "y_pred = np.argmax(xception.predict(test_tensors), axis=1)\n",
        "\n",
        "plt.figure(figsize=(12, 6))\n",
        "cm = confusion_matrix(y_true, y_pred)\n",
        "plt.imshow(cm, cmap=plt.cm.Blues)\n",
        "plt.colorbar()\n",
        "indexes = np.arange(len(cm_labels))\n",
        "for i in indexes:\n",
        "    for j in indexes:\n",
        "        plt.text(j, i, cm[i, j])\n",
        "plt.xticks(indexes, cm_labels, rotation=90)\n",
        "plt.xlabel('Predicted label')\n",
        "plt.yticks(indexes, cm_labels)\n",
        "plt.ylabel('True label')\n",
        "plt.title('Confusion Matrix, Early Stopping Best Model')\n",
        "plt.show()"
      ]
    },
    {
      "cell_type": "code",
      "execution_count": null,
      "metadata": {
        "colab": {
          "background_save": true
        },
        "id": "EsqYNyL1UYkG",
        "outputId": "a4e662cb-b38f-40aa-d93e-182fd0a3e833"
      },
      "outputs": [
        {
          "name": "stdout",
          "output_type": "stream",
          "text": [
            "              precision    recall  f1-score   support\n",
            "\n",
            " Batik Liong       0.00      0.00      0.00        40\n",
            "   Jamplrang       0.00      0.00      0.00        40\n",
            "Terang Bulan       0.20      0.33      0.25        40\n",
            "  Tujuh Rupa       0.24      0.57      0.34        40\n",
            "\n",
            "    accuracy                           0.23       160\n",
            "   macro avg       0.11      0.22      0.15       160\n",
            "weighted avg       0.11      0.23      0.15       160\n",
            "\n"
          ]
        },
        {
          "name": "stderr",
          "output_type": "stream",
          "text": [
            "/usr/local/lib/python3.7/dist-packages/sklearn/metrics/_classification.py:1318: UndefinedMetricWarning: Precision and F-score are ill-defined and being set to 0.0 in labels with no predicted samples. Use `zero_division` parameter to control this behavior.\n",
            "  _warn_prf(average, modifier, msg_start, len(result))\n",
            "/usr/local/lib/python3.7/dist-packages/sklearn/metrics/_classification.py:1318: UndefinedMetricWarning: Precision and F-score are ill-defined and being set to 0.0 in labels with no predicted samples. Use `zero_division` parameter to control this behavior.\n",
            "  _warn_prf(average, modifier, msg_start, len(result))\n",
            "/usr/local/lib/python3.7/dist-packages/sklearn/metrics/_classification.py:1318: UndefinedMetricWarning: Precision and F-score are ill-defined and being set to 0.0 in labels with no predicted samples. Use `zero_division` parameter to control this behavior.\n",
            "  _warn_prf(average, modifier, msg_start, len(result))\n"
          ]
        }
      ],
      "source": [
        "# Classification Report\n",
        "from sklearn.metrics import classification_report\n",
        "print(classification_report(np.argmax(test_targets, axis=1), np.argmax(xception.predict(test_tensors), axis=1), target_names=cm_labels))"
      ]
    },
    {
      "cell_type": "code",
      "execution_count": null,
      "metadata": {
        "colab": {
          "background_save": true
        },
        "id": "cuRuiTk340rK",
        "outputId": "2f033e9c-5f2d-4b45-8b31-b49f8e5081d3"
      },
      "outputs": [
        {
          "data": {
            "text/plain": [
              "array([0.        , 0.        , 0.43229041, 0.4745612 ])"
            ]
          },
          "execution_count": null,
          "metadata": {},
          "output_type": "execute_result"
        }
      ],
      "source": [
        "# Geometric Mean\n",
        "from imblearn.metrics import geometric_mean_score\n",
        "geometric_mean_score(y_true, y_pred, pos_label=1, average=None, correction=0.0)"
      ]
    },
    {
      "cell_type": "markdown",
      "metadata": {
        "id": "RPo6_Fz5tPTU"
      },
      "source": [
        "==============================================================================================================="
      ]
    },
    {
      "cell_type": "code",
      "execution_count": null,
      "metadata": {
        "colab": {
          "background_save": true
        },
        "id": "Ae4HvEpGrF_5",
        "outputId": "c914b3d0-e31e-4721-faee-6364e9e29240"
      },
      "outputs": [
        {
          "name": "stdout",
          "output_type": "stream",
          "text": [
            "The length of feature extraction layers of Xception is  133\n"
          ]
        }
      ],
      "source": [
        "from keras.layers import Dense, Flatten, Dropout, BatchNormalization\n",
        "from keras.models import Model\n",
        "from tensorflow.keras.applications import xception\n",
        "\n",
        "base_model = xception.Xception(weights=None, include_top=False, input_shape = (299,299, 3), pooling='avg') # don't include Xception classifier part\n",
        "print(\"The length of feature extraction layers of Xception is \", len(base_model.layers))\n",
        "\n",
        "last_layer = base_model.get_layer('block14_sepconv2_act')\n",
        "last_output = last_layer.output\n",
        "\n",
        "# add your own classification layer\n",
        "x = Flatten()(last_output)\n",
        "x = Dense(128, activation='relu')(x)\n",
        "x = Dropout(0.1)(x)\n",
        "x = Dense(4, activation='softmax', name='softmax')(x)\n",
        "\n",
        "# instantiate a new_model using keras’s Model class\n",
        "xception2 = Model(inputs=base_model.input, outputs=x)\n",
        "\n",
        "sgd = tf.keras.optimizers.SGD(learning_rate=1e-2, momentum=0.9, nesterov=True, decay=1e-2/epochs)\n",
        "\n",
        "xception2.compile(sgd, loss='categorical_crossentropy', metrics=['accuracy'])"
      ]
    },
    {
      "cell_type": "code",
      "execution_count": null,
      "metadata": {
        "id": "pmgFWMXfrmDP"
      },
      "outputs": [],
      "source": [
        "history = xception2.fit(train_batches, \n",
        "                        steps_per_epoch=4, \n",
        "                        batch_size=training_examples, \n",
        "                        validation_data=valid_batches, \n",
        "                        validation_steps=2, \n",
        "                        epochs=epochs, verbose=2, \n",
        "                        callbacks=my_callbacks, \n",
        "                        shuffle=True)"
      ]
    },
    {
      "cell_type": "code",
      "execution_count": null,
      "metadata": {
        "id": "HE6sWhw7srTW"
      },
      "outputs": [],
      "source": [
        "print('\\nTesting loss: {:.4f}\\nTesting accuracy: {:.4f}'.format(*xception2.evaluate(test_tensors, test_targets)))"
      ]
    },
    {
      "cell_type": "code",
      "execution_count": null,
      "metadata": {
        "id": "ZD-hAdS0syHO"
      },
      "outputs": [],
      "source": [
        "# Confussion Matrix\n",
        "from sklearn.metrics import confusion_matrix\n",
        "\n",
        "cm_labels = ['Batik Liong','Jamplrang', 'Terang Bulan', 'Tujuh Rupa']\n",
        "\n",
        "y_true = np.argmax(test_targets, axis=1)\n",
        "y_pred = np.argmax(xception2.predict(test_tensors), axis=1)\n",
        "\n",
        "plt.figure(figsize=(12, 6))\n",
        "cm = confusion_matrix(y_true, y_pred)\n",
        "plt.imshow(cm, cmap=plt.cm.Blues)\n",
        "plt.colorbar()\n",
        "indexes = np.arange(len(cm_labels))\n",
        "for i in indexes:\n",
        "    for j in indexes:\n",
        "        plt.text(j, i, cm[i, j])\n",
        "plt.xticks(indexes, cm_labels, rotation=90)\n",
        "plt.xlabel('Predicted label')\n",
        "plt.yticks(indexes, cm_labels)\n",
        "plt.ylabel('True label')\n",
        "plt.title('Confusion Matrix, Early Stopping Best Model')\n",
        "plt.show()"
      ]
    },
    {
      "cell_type": "code",
      "execution_count": null,
      "metadata": {
        "id": "4f5F1l42s1gW"
      },
      "outputs": [],
      "source": [
        "# Classification Report\n",
        "from sklearn.metrics import classification_report\n",
        "print(classification_report(np.argmax(test_targets, axis=1), np.argmax(xception2.predict(test_tensors), axis=1), target_names=cm_labels))"
      ]
    },
    {
      "cell_type": "code",
      "execution_count": null,
      "metadata": {
        "id": "YUich1N-s6UY"
      },
      "outputs": [],
      "source": [
        "# Geometric Mean\n",
        "from imblearn.metrics import geometric_mean_score\n",
        "geometric_mean_score(y_true, y_pred, pos_label=1, average=None, correction=0.0)"
      ]
    }
  ],
  "metadata": {
    "accelerator": "GPU",
    "colab": {
      "collapsed_sections": [],
      "name": "Xception 4 Class Experiment.ipynb",
      "provenance": []
    },
    "gpuClass": "standard",
    "interpreter": {
      "hash": "55b315c3dbf10ef7f12b59bd8ad1fda37f03e8048b8c0ccbc36f7a976bce2219"
    },
    "kernelspec": {
      "display_name": "Python 3.8.6 64-bit",
      "language": "python",
      "name": "python3"
    },
    "language_info": {
      "codemirror_mode": {
        "name": "ipython",
        "version": 3
      },
      "file_extension": ".py",
      "mimetype": "text/x-python",
      "name": "python",
      "nbconvert_exporter": "python",
      "pygments_lexer": "ipython3",
      "version": "3.8.6"
    }
  },
  "nbformat": 4,
  "nbformat_minor": 0
}